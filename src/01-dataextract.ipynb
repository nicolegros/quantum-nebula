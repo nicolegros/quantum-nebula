{
 "cells": [
  {
   "cell_type": "code",
   "execution_count": 1,
   "id": "initial_id",
   "metadata": {
    "collapsed": true,
    "ExecuteTime": {
     "end_time": "2024-04-10T12:50:11.241538Z",
     "start_time": "2024-04-10T12:50:10.365324Z"
    }
   },
   "outputs": [
    {
     "name": "stdout",
     "output_type": "stream",
     "text": [
      "Data successfully extracted to /Users/nicolegros/Developer/log8430-tp3/data/clean/mongo/mongo_3_10_90.csv\n"
     ]
    }
   ],
   "source": [
    "\n",
    "from src.extracter import extract_data_to_wide_csv\n",
    "\n",
    "extract_data_to_wide_csv('/Users/nicolegros/Developer/log8430-tp3/data/raw/mongo/mongo_3_10_90/1/load_10_90_1.txt', '/Users/nicolegros/Developer/log8430-tp3/data/clean/mongo/mongo_3_10_90.csv')"
   ]
  },
  {
   "cell_type": "code",
   "execution_count": 2,
   "outputs": [
    {
     "data": {
      "text/plain": "   [OVERALL] RunTime(ms)  [OVERALL] Throughput(ops/sec)  \\\n0                  11277                      88.676066   \n\n   [TOTAL_GCS_PS_Scavenge] Count  [TOTAL_GC_TIME_PS_Scavenge] Time(ms)  \\\n0                              0                                     0   \n\n   [TOTAL_GC_TIME_%_PS_Scavenge] Time(%)  [TOTAL_GCS_PS_MarkSweep] Count  \\\n0                                    0.0                               0   \n\n   [TOTAL_GC_TIME_PS_MarkSweep] Time(ms)  \\\n0                                      0   \n\n   [TOTAL_GC_TIME_%_PS_MarkSweep] Time(%)  [TOTAL_GCs] Count  \\\n0                                     0.0                  0   \n\n   [TOTAL_GC_TIME] Time(ms)  ...  [CLEANUP] MaxLatency(us)  \\\n0                         0  ...                      2137   \n\n   [CLEANUP] 95thPercentileLatency(us)  [CLEANUP] 99thPercentileLatency(us)  \\\n0                                 2137                                 2137   \n\n   [INSERT] Operations  [INSERT] AverageLatency(us)  [INSERT] MinLatency(us)  \\\n0                 1000                    10969.594                      181   \n\n   [INSERT] MaxLatency(us)  [INSERT] 95thPercentileLatency(us)  \\\n0                 10649599                                 535   \n\n   [INSERT] 99thPercentileLatency(us)  [INSERT] Return=OK  \n0                                 650                1000  \n\n[1 rows x 24 columns]",
      "text/html": "<div>\n<style scoped>\n    .dataframe tbody tr th:only-of-type {\n        vertical-align: middle;\n    }\n\n    .dataframe tbody tr th {\n        vertical-align: top;\n    }\n\n    .dataframe thead th {\n        text-align: right;\n    }\n</style>\n<table border=\"1\" class=\"dataframe\">\n  <thead>\n    <tr style=\"text-align: right;\">\n      <th></th>\n      <th>[OVERALL] RunTime(ms)</th>\n      <th>[OVERALL] Throughput(ops/sec)</th>\n      <th>[TOTAL_GCS_PS_Scavenge] Count</th>\n      <th>[TOTAL_GC_TIME_PS_Scavenge] Time(ms)</th>\n      <th>[TOTAL_GC_TIME_%_PS_Scavenge] Time(%)</th>\n      <th>[TOTAL_GCS_PS_MarkSweep] Count</th>\n      <th>[TOTAL_GC_TIME_PS_MarkSweep] Time(ms)</th>\n      <th>[TOTAL_GC_TIME_%_PS_MarkSweep] Time(%)</th>\n      <th>[TOTAL_GCs] Count</th>\n      <th>[TOTAL_GC_TIME] Time(ms)</th>\n      <th>...</th>\n      <th>[CLEANUP] MaxLatency(us)</th>\n      <th>[CLEANUP] 95thPercentileLatency(us)</th>\n      <th>[CLEANUP] 99thPercentileLatency(us)</th>\n      <th>[INSERT] Operations</th>\n      <th>[INSERT] AverageLatency(us)</th>\n      <th>[INSERT] MinLatency(us)</th>\n      <th>[INSERT] MaxLatency(us)</th>\n      <th>[INSERT] 95thPercentileLatency(us)</th>\n      <th>[INSERT] 99thPercentileLatency(us)</th>\n      <th>[INSERT] Return=OK</th>\n    </tr>\n  </thead>\n  <tbody>\n    <tr>\n      <th>0</th>\n      <td>11277</td>\n      <td>88.676066</td>\n      <td>0</td>\n      <td>0</td>\n      <td>0.0</td>\n      <td>0</td>\n      <td>0</td>\n      <td>0.0</td>\n      <td>0</td>\n      <td>0</td>\n      <td>...</td>\n      <td>2137</td>\n      <td>2137</td>\n      <td>2137</td>\n      <td>1000</td>\n      <td>10969.594</td>\n      <td>181</td>\n      <td>10649599</td>\n      <td>535</td>\n      <td>650</td>\n      <td>1000</td>\n    </tr>\n  </tbody>\n</table>\n<p>1 rows × 24 columns</p>\n</div>"
     },
     "execution_count": 2,
     "metadata": {},
     "output_type": "execute_result"
    }
   ],
   "source": [
    "import pandas as pd\n",
    "pd.read_csv('../data/clean/mongo/mongo_3_10_90.csv', )"
   ],
   "metadata": {
    "collapsed": false,
    "ExecuteTime": {
     "end_time": "2024-04-10T12:50:14.299805Z",
     "start_time": "2024-04-10T12:50:14.241631Z"
    }
   },
   "id": "d4f2363b72b53d52"
  },
  {
   "cell_type": "markdown",
   "source": [
    "# Load"
   ],
   "metadata": {
    "collapsed": false
   },
   "id": "6bdc7bbed6701f88"
  },
  {
   "cell_type": "code",
   "execution_count": 5,
   "outputs": [
    {
     "name": "stdout",
     "output_type": "stream",
     "text": [
      "Data from all load files successfully compiled into ../data/clean/mongo/3_10_90_load.csv\n",
      "Data from all load files successfully compiled into ../data/clean/mongo/3_50_50_load.csv\n",
      "Data from all load files successfully compiled into ../data/clean/mongo/5_10_90_load.csv\n",
      "Data from all load files successfully compiled into ../data/clean/mongo/5_50_50_load.csv\n",
      "Data from all load files successfully compiled into ../data/clean/redis/3_10_90_load.csv\n",
      "Data from all load files successfully compiled into ../data/clean/redis/3_50_50_load.csv\n",
      "Data from all load files successfully compiled into ../data/clean/redis/5_10_90_load.csv\n",
      "Data from all load files successfully compiled into ../data/clean/redis/5_50_50_load.csv\n"
     ]
    }
   ],
   "source": [
    "from src.fileloader import processfiles\n",
    "\n",
    "processfiles('../data/raw/mongo/mongo_3_10_90', '../data/clean/mongo/3_10_90_load.csv', 'load')\n",
    "processfiles('../data/raw/mongo/mongo_3_50_50', '../data/clean/mongo/3_50_50_load.csv', 'load')\n",
    "processfiles('../data/raw/mongo/mongo_5_10_90', '../data/clean/mongo/5_10_90_load.csv', 'load')\n",
    "processfiles('../data/raw/mongo/mongo_5_50_50', '../data/clean/mongo/5_50_50_load.csv', 'load')\n",
    "\n",
    "\n",
    "processfiles('../data/raw/redis/redis_3_10_90', '../data/clean/redis/3_10_90_load.csv', 'load')\n",
    "processfiles('../data/raw/redis/redis_3_50_50', '../data/clean/redis/3_50_50_load.csv', 'load')\n",
    "processfiles('../data/raw/redis/redis_5_10_90', '../data/clean/redis/5_10_90_load.csv', 'load')\n",
    "processfiles('../data/raw/redis/redis_5_50_50', '../data/clean/redis/5_50_50_load.csv', 'load')\n"
   ],
   "metadata": {
    "collapsed": false,
    "ExecuteTime": {
     "end_time": "2024-04-10T13:05:40.059477Z",
     "start_time": "2024-04-10T13:05:39.972972Z"
    }
   },
   "id": "227c14bbbd1029f4"
  },
  {
   "cell_type": "code",
   "execution_count": 6,
   "outputs": [
    {
     "data": {
      "text/plain": "   [OVERALL] RunTime(ms)  [OVERALL] Throughput(ops/sec)  \\\n0                  10310                      96.993210   \n1                  11327                      88.284630   \n2                  10357                      96.553056   \n3                  11277                      88.676066   \n4                  10805                      92.549745   \n5                  10796                      92.626899   \n6                  10777                      92.790201   \n7                  11806                      84.702694   \n8                  10773                      92.824654   \n9                  11330                      88.261253   \n\n   [TOTAL_GCS_PS_Scavenge] Count  [TOTAL_GC_TIME_PS_Scavenge] Time(ms)  \\\n0                              0                                     0   \n1                              0                                     0   \n2                              0                                     0   \n3                              0                                     0   \n4                              0                                     0   \n5                              0                                     0   \n6                              0                                     0   \n7                              0                                     0   \n8                              0                                     0   \n9                              0                                     0   \n\n   [TOTAL_GC_TIME_%_PS_Scavenge] Time(%)  [TOTAL_GCS_PS_MarkSweep] Count  \\\n0                                    0.0                               0   \n1                                    0.0                               0   \n2                                    0.0                               0   \n3                                    0.0                               0   \n4                                    0.0                               0   \n5                                    0.0                               0   \n6                                    0.0                               0   \n7                                    0.0                               0   \n8                                    0.0                               0   \n9                                    0.0                               0   \n\n   [TOTAL_GC_TIME_PS_MarkSweep] Time(ms)  \\\n0                                      0   \n1                                      0   \n2                                      0   \n3                                      0   \n4                                      0   \n5                                      0   \n6                                      0   \n7                                      0   \n8                                      0   \n9                                      0   \n\n   [TOTAL_GC_TIME_%_PS_MarkSweep] Time(%)  [TOTAL_GCs] Count  \\\n0                                     0.0                  0   \n1                                     0.0                  0   \n2                                     0.0                  0   \n3                                     0.0                  0   \n4                                     0.0                  0   \n5                                     0.0                  0   \n6                                     0.0                  0   \n7                                     0.0                  0   \n8                                     0.0                  0   \n9                                     0.0                  0   \n\n   [TOTAL_GC_TIME] Time(ms)  ...  [CLEANUP] MaxLatency(us)  \\\n0                         0  ...                      3195   \n1                         0  ...                      2563   \n2                         0  ...                      1989   \n3                         0  ...                      2137   \n4                         0  ...                      2011   \n5                         0  ...                      1699   \n6                         0  ...                      1941   \n7                         0  ...                      2073   \n8                         0  ...                      1923   \n9                         0  ...                      1950   \n\n   [CLEANUP] 95thPercentileLatency(us)  [CLEANUP] 99thPercentileLatency(us)  \\\n0                                 3195                                 3195   \n1                                 2563                                 2563   \n2                                 1989                                 1989   \n3                                 2137                                 2137   \n4                                 2011                                 2011   \n5                                 1699                                 1699   \n6                                 1941                                 1941   \n7                                 2073                                 2073   \n8                                 1923                                 1923   \n9                                 1950                                 1950   \n\n   [INSERT] Operations  [INSERT] AverageLatency(us)  [INSERT] MinLatency(us)  \\\n0                 1000                     9948.915                      164   \n1                 1000                    10976.746                      184   \n2                 1000                     9983.440                      194   \n3                 1000                    10969.594                      181   \n4                 1000                    10449.893                      206   \n5                 1000                    10464.670                      170   \n6                 1000                    10444.203                      176   \n7                 1000                    11467.073                      174   \n8                 1000                    10443.855                      180   \n9                 1000                    10980.423                      188   \n\n   [INSERT] MaxLatency(us)  [INSERT] 95thPercentileLatency(us)  \\\n0                  9633791                                 528   \n1                 10649599                                 560   \n2                  9641983                                 539   \n3                 10649599                                 535   \n4                 10141695                                 519   \n5                 10141695                                 562   \n6                 10141695                                 472   \n7                 11157503                                 468   \n8                 10141695                                 578   \n9                 10649599                                 572   \n\n   [INSERT] 99thPercentileLatency(us)  [INSERT] Return=OK  \n0                                 715                1000  \n1                                 705                1000  \n2                                1110                1000  \n3                                 650                1000  \n4                                 918                1000  \n5                                 977                1000  \n6                                 933                1000  \n7                                 691                1000  \n8                                 730                1000  \n9                                 745                1000  \n\n[10 rows x 24 columns]",
      "text/html": "<div>\n<style scoped>\n    .dataframe tbody tr th:only-of-type {\n        vertical-align: middle;\n    }\n\n    .dataframe tbody tr th {\n        vertical-align: top;\n    }\n\n    .dataframe thead th {\n        text-align: right;\n    }\n</style>\n<table border=\"1\" class=\"dataframe\">\n  <thead>\n    <tr style=\"text-align: right;\">\n      <th></th>\n      <th>[OVERALL] RunTime(ms)</th>\n      <th>[OVERALL] Throughput(ops/sec)</th>\n      <th>[TOTAL_GCS_PS_Scavenge] Count</th>\n      <th>[TOTAL_GC_TIME_PS_Scavenge] Time(ms)</th>\n      <th>[TOTAL_GC_TIME_%_PS_Scavenge] Time(%)</th>\n      <th>[TOTAL_GCS_PS_MarkSweep] Count</th>\n      <th>[TOTAL_GC_TIME_PS_MarkSweep] Time(ms)</th>\n      <th>[TOTAL_GC_TIME_%_PS_MarkSweep] Time(%)</th>\n      <th>[TOTAL_GCs] Count</th>\n      <th>[TOTAL_GC_TIME] Time(ms)</th>\n      <th>...</th>\n      <th>[CLEANUP] MaxLatency(us)</th>\n      <th>[CLEANUP] 95thPercentileLatency(us)</th>\n      <th>[CLEANUP] 99thPercentileLatency(us)</th>\n      <th>[INSERT] Operations</th>\n      <th>[INSERT] AverageLatency(us)</th>\n      <th>[INSERT] MinLatency(us)</th>\n      <th>[INSERT] MaxLatency(us)</th>\n      <th>[INSERT] 95thPercentileLatency(us)</th>\n      <th>[INSERT] 99thPercentileLatency(us)</th>\n      <th>[INSERT] Return=OK</th>\n    </tr>\n  </thead>\n  <tbody>\n    <tr>\n      <th>0</th>\n      <td>10310</td>\n      <td>96.993210</td>\n      <td>0</td>\n      <td>0</td>\n      <td>0.0</td>\n      <td>0</td>\n      <td>0</td>\n      <td>0.0</td>\n      <td>0</td>\n      <td>0</td>\n      <td>...</td>\n      <td>3195</td>\n      <td>3195</td>\n      <td>3195</td>\n      <td>1000</td>\n      <td>9948.915</td>\n      <td>164</td>\n      <td>9633791</td>\n      <td>528</td>\n      <td>715</td>\n      <td>1000</td>\n    </tr>\n    <tr>\n      <th>1</th>\n      <td>11327</td>\n      <td>88.284630</td>\n      <td>0</td>\n      <td>0</td>\n      <td>0.0</td>\n      <td>0</td>\n      <td>0</td>\n      <td>0.0</td>\n      <td>0</td>\n      <td>0</td>\n      <td>...</td>\n      <td>2563</td>\n      <td>2563</td>\n      <td>2563</td>\n      <td>1000</td>\n      <td>10976.746</td>\n      <td>184</td>\n      <td>10649599</td>\n      <td>560</td>\n      <td>705</td>\n      <td>1000</td>\n    </tr>\n    <tr>\n      <th>2</th>\n      <td>10357</td>\n      <td>96.553056</td>\n      <td>0</td>\n      <td>0</td>\n      <td>0.0</td>\n      <td>0</td>\n      <td>0</td>\n      <td>0.0</td>\n      <td>0</td>\n      <td>0</td>\n      <td>...</td>\n      <td>1989</td>\n      <td>1989</td>\n      <td>1989</td>\n      <td>1000</td>\n      <td>9983.440</td>\n      <td>194</td>\n      <td>9641983</td>\n      <td>539</td>\n      <td>1110</td>\n      <td>1000</td>\n    </tr>\n    <tr>\n      <th>3</th>\n      <td>11277</td>\n      <td>88.676066</td>\n      <td>0</td>\n      <td>0</td>\n      <td>0.0</td>\n      <td>0</td>\n      <td>0</td>\n      <td>0.0</td>\n      <td>0</td>\n      <td>0</td>\n      <td>...</td>\n      <td>2137</td>\n      <td>2137</td>\n      <td>2137</td>\n      <td>1000</td>\n      <td>10969.594</td>\n      <td>181</td>\n      <td>10649599</td>\n      <td>535</td>\n      <td>650</td>\n      <td>1000</td>\n    </tr>\n    <tr>\n      <th>4</th>\n      <td>10805</td>\n      <td>92.549745</td>\n      <td>0</td>\n      <td>0</td>\n      <td>0.0</td>\n      <td>0</td>\n      <td>0</td>\n      <td>0.0</td>\n      <td>0</td>\n      <td>0</td>\n      <td>...</td>\n      <td>2011</td>\n      <td>2011</td>\n      <td>2011</td>\n      <td>1000</td>\n      <td>10449.893</td>\n      <td>206</td>\n      <td>10141695</td>\n      <td>519</td>\n      <td>918</td>\n      <td>1000</td>\n    </tr>\n    <tr>\n      <th>5</th>\n      <td>10796</td>\n      <td>92.626899</td>\n      <td>0</td>\n      <td>0</td>\n      <td>0.0</td>\n      <td>0</td>\n      <td>0</td>\n      <td>0.0</td>\n      <td>0</td>\n      <td>0</td>\n      <td>...</td>\n      <td>1699</td>\n      <td>1699</td>\n      <td>1699</td>\n      <td>1000</td>\n      <td>10464.670</td>\n      <td>170</td>\n      <td>10141695</td>\n      <td>562</td>\n      <td>977</td>\n      <td>1000</td>\n    </tr>\n    <tr>\n      <th>6</th>\n      <td>10777</td>\n      <td>92.790201</td>\n      <td>0</td>\n      <td>0</td>\n      <td>0.0</td>\n      <td>0</td>\n      <td>0</td>\n      <td>0.0</td>\n      <td>0</td>\n      <td>0</td>\n      <td>...</td>\n      <td>1941</td>\n      <td>1941</td>\n      <td>1941</td>\n      <td>1000</td>\n      <td>10444.203</td>\n      <td>176</td>\n      <td>10141695</td>\n      <td>472</td>\n      <td>933</td>\n      <td>1000</td>\n    </tr>\n    <tr>\n      <th>7</th>\n      <td>11806</td>\n      <td>84.702694</td>\n      <td>0</td>\n      <td>0</td>\n      <td>0.0</td>\n      <td>0</td>\n      <td>0</td>\n      <td>0.0</td>\n      <td>0</td>\n      <td>0</td>\n      <td>...</td>\n      <td>2073</td>\n      <td>2073</td>\n      <td>2073</td>\n      <td>1000</td>\n      <td>11467.073</td>\n      <td>174</td>\n      <td>11157503</td>\n      <td>468</td>\n      <td>691</td>\n      <td>1000</td>\n    </tr>\n    <tr>\n      <th>8</th>\n      <td>10773</td>\n      <td>92.824654</td>\n      <td>0</td>\n      <td>0</td>\n      <td>0.0</td>\n      <td>0</td>\n      <td>0</td>\n      <td>0.0</td>\n      <td>0</td>\n      <td>0</td>\n      <td>...</td>\n      <td>1923</td>\n      <td>1923</td>\n      <td>1923</td>\n      <td>1000</td>\n      <td>10443.855</td>\n      <td>180</td>\n      <td>10141695</td>\n      <td>578</td>\n      <td>730</td>\n      <td>1000</td>\n    </tr>\n    <tr>\n      <th>9</th>\n      <td>11330</td>\n      <td>88.261253</td>\n      <td>0</td>\n      <td>0</td>\n      <td>0.0</td>\n      <td>0</td>\n      <td>0</td>\n      <td>0.0</td>\n      <td>0</td>\n      <td>0</td>\n      <td>...</td>\n      <td>1950</td>\n      <td>1950</td>\n      <td>1950</td>\n      <td>1000</td>\n      <td>10980.423</td>\n      <td>188</td>\n      <td>10649599</td>\n      <td>572</td>\n      <td>745</td>\n      <td>1000</td>\n    </tr>\n  </tbody>\n</table>\n<p>10 rows × 24 columns</p>\n</div>"
     },
     "execution_count": 6,
     "metadata": {},
     "output_type": "execute_result"
    }
   ],
   "source": [
    "pd.read_csv('../data/clean/mongo/3_10_90_load.csv')"
   ],
   "metadata": {
    "collapsed": false,
    "ExecuteTime": {
     "end_time": "2024-04-10T13:06:33.703366Z",
     "start_time": "2024-04-10T13:06:33.687015Z"
    }
   },
   "id": "acbd7d7f2249b12e"
  },
  {
   "cell_type": "markdown",
   "source": [
    "# Run"
   ],
   "metadata": {
    "collapsed": false
   },
   "id": "2fee0032b708beb6"
  },
  {
   "cell_type": "code",
   "execution_count": 7,
   "outputs": [
    {
     "name": "stdout",
     "output_type": "stream",
     "text": [
      "Data from all load files successfully compiled into ../data/clean/mongo/3_10_90_run.csv\n",
      "Data from all load files successfully compiled into ../data/clean/mongo/3_50_50_run.csv\n",
      "Data from all load files successfully compiled into ../data/clean/mongo/5_10_90_run.csv\n",
      "Data from all load files successfully compiled into ../data/clean/mongo/5_50_50_run.csv\n",
      "Data from all load files successfully compiled into ../data/clean/redis/3_10_90_run.csv\n",
      "Data from all load files successfully compiled into ../data/clean/redis/3_50_50_run.csv\n",
      "Data from all load files successfully compiled into ../data/clean/redis/5_10_90_run.csv\n",
      "Data from all load files successfully compiled into ../data/clean/redis/5_50_50_run.csv\n"
     ]
    }
   ],
   "source": [
    "\n",
    "from src.fileloader import processfiles\n",
    "\n",
    "processfiles('../data/raw/mongo/mongo_3_10_90', '../data/clean/mongo/3_10_90_run.csv', 'run')\n",
    "processfiles('../data/raw/mongo/mongo_3_50_50', '../data/clean/mongo/3_50_50_run.csv', 'run')\n",
    "processfiles('../data/raw/mongo/mongo_5_10_90', '../data/clean/mongo/5_10_90_run.csv', 'run')\n",
    "processfiles('../data/raw/mongo/mongo_5_50_50', '../data/clean/mongo/5_50_50_run.csv', 'run')\n",
    "\n",
    "\n",
    "processfiles('../data/raw/redis/redis_3_10_90', '../data/clean/redis/3_10_90_run.csv', 'run')\n",
    "processfiles('../data/raw/redis/redis_3_50_50', '../data/clean/redis/3_50_50_run.csv', 'run')\n",
    "processfiles('../data/raw/redis/redis_5_10_90', '../data/clean/redis/5_10_90_run.csv', 'run')\n",
    "processfiles('../data/raw/redis/redis_5_50_50', '../data/clean/redis/5_50_50_run.csv', 'run')\n"
   ],
   "metadata": {
    "collapsed": false,
    "ExecuteTime": {
     "end_time": "2024-04-10T13:06:46.647626Z",
     "start_time": "2024-04-10T13:06:46.460806Z"
    }
   },
   "id": "ec204b709c7c381"
  },
  {
   "cell_type": "code",
   "execution_count": 8,
   "outputs": [
    {
     "data": {
      "text/plain": "   [OVERALL] RunTime(ms)  [OVERALL] Throughput(ops/sec)  \\\n0                    752                    1329.787234   \n1                    931                    1074.113856   \n2                    938                    1066.098081   \n3                    958                    1043.841336   \n4                    976                    1024.590164   \n5                    929                    1076.426265   \n6                    985                    1015.228426   \n7                    976                    1024.590164   \n8                   1017                     983.284169   \n9                    942                    1061.571125   \n\n   [TOTAL_GCS_PS_Scavenge] Count  [TOTAL_GC_TIME_PS_Scavenge] Time(ms)  \\\n0                              0                                     0   \n1                              0                                     0   \n2                              0                                     0   \n3                              0                                     0   \n4                              0                                     0   \n5                              0                                     0   \n6                              0                                     0   \n7                              0                                     0   \n8                              0                                     0   \n9                              0                                     0   \n\n   [TOTAL_GC_TIME_%_PS_Scavenge] Time(%)  [TOTAL_GCS_PS_MarkSweep] Count  \\\n0                                    0.0                               0   \n1                                    0.0                               0   \n2                                    0.0                               0   \n3                                    0.0                               0   \n4                                    0.0                               0   \n5                                    0.0                               0   \n6                                    0.0                               0   \n7                                    0.0                               0   \n8                                    0.0                               0   \n9                                    0.0                               0   \n\n   [TOTAL_GC_TIME_PS_MarkSweep] Time(ms)  \\\n0                                      0   \n1                                      0   \n2                                      0   \n3                                      0   \n4                                      0   \n5                                      0   \n6                                      0   \n7                                      0   \n8                                      0   \n9                                      0   \n\n   [TOTAL_GC_TIME_%_PS_MarkSweep] Time(%)  [TOTAL_GCs] Count  \\\n0                                     0.0                  0   \n1                                     0.0                  0   \n2                                     0.0                  0   \n3                                     0.0                  0   \n4                                     0.0                  0   \n5                                     0.0                  0   \n6                                     0.0                  0   \n7                                     0.0                  0   \n8                                     0.0                  0   \n9                                     0.0                  0   \n\n   [TOTAL_GC_TIME] Time(ms)  ...  [CLEANUP] MaxLatency(us)  \\\n0                         0  ...                      1778   \n1                         0  ...                      2403   \n2                         0  ...                      3699   \n3                         0  ...                      1741   \n4                         0  ...                      2877   \n5                         0  ...                      2045   \n6                         0  ...                      2887   \n7                         0  ...                      2193   \n8                         0  ...                      2109   \n9                         0  ...                      2022   \n\n   [CLEANUP] 95thPercentileLatency(us)  [CLEANUP] 99thPercentileLatency(us)  \\\n0                                 1778                                 1778   \n1                                 2403                                 2403   \n2                                 3699                                 3699   \n3                                 1741                                 1741   \n4                                 2877                                 2877   \n5                                 2045                                 2045   \n6                                 2887                                 2887   \n7                                 2193                                 2193   \n8                                 2109                                 2109   \n9                                 2022                                 2022   \n\n   [UPDATE] Operations  [UPDATE] AverageLatency(us)  [UPDATE] MinLatency(us)  \\\n0                  883                   393.671574                      197   \n1                  909                   587.903190                      288   \n2                  893                   588.334826                      285   \n3                  904                   582.148230                      252   \n4                  889                   632.920135                      278   \n5                  911                   601.160263                      259   \n6                  902                   624.733925                      272   \n7                  881                   613.426788                      282   \n8                  896                   638.289062                      287   \n9                  899                   597.103448                      275   \n\n   [UPDATE] MaxLatency(us)  [UPDATE] 95thPercentileLatency(us)  \\\n0                     7091                                 629   \n1                    43839                                 955   \n2                    39583                                 914   \n3                    39519                                 976   \n4                    39615                                1145   \n5                    39391                                 934   \n6                    51807                                1068   \n7                    42719                                 992   \n8                     8279                                1459   \n9                    41567                                1001   \n\n   [UPDATE] 99thPercentileLatency(us)  [UPDATE] Return=OK  \n0                                 884                 883  \n1                                1374                 909  \n2                                1352                 893  \n3                                2127                 904  \n4                                2397                 889  \n5                                2601                 911  \n6                                1880                 902  \n7                                2629                 881  \n8                                2829                 896  \n9                                1410                 899  \n\n[10 rows x 31 columns]",
      "text/html": "<div>\n<style scoped>\n    .dataframe tbody tr th:only-of-type {\n        vertical-align: middle;\n    }\n\n    .dataframe tbody tr th {\n        vertical-align: top;\n    }\n\n    .dataframe thead th {\n        text-align: right;\n    }\n</style>\n<table border=\"1\" class=\"dataframe\">\n  <thead>\n    <tr style=\"text-align: right;\">\n      <th></th>\n      <th>[OVERALL] RunTime(ms)</th>\n      <th>[OVERALL] Throughput(ops/sec)</th>\n      <th>[TOTAL_GCS_PS_Scavenge] Count</th>\n      <th>[TOTAL_GC_TIME_PS_Scavenge] Time(ms)</th>\n      <th>[TOTAL_GC_TIME_%_PS_Scavenge] Time(%)</th>\n      <th>[TOTAL_GCS_PS_MarkSweep] Count</th>\n      <th>[TOTAL_GC_TIME_PS_MarkSweep] Time(ms)</th>\n      <th>[TOTAL_GC_TIME_%_PS_MarkSweep] Time(%)</th>\n      <th>[TOTAL_GCs] Count</th>\n      <th>[TOTAL_GC_TIME] Time(ms)</th>\n      <th>...</th>\n      <th>[CLEANUP] MaxLatency(us)</th>\n      <th>[CLEANUP] 95thPercentileLatency(us)</th>\n      <th>[CLEANUP] 99thPercentileLatency(us)</th>\n      <th>[UPDATE] Operations</th>\n      <th>[UPDATE] AverageLatency(us)</th>\n      <th>[UPDATE] MinLatency(us)</th>\n      <th>[UPDATE] MaxLatency(us)</th>\n      <th>[UPDATE] 95thPercentileLatency(us)</th>\n      <th>[UPDATE] 99thPercentileLatency(us)</th>\n      <th>[UPDATE] Return=OK</th>\n    </tr>\n  </thead>\n  <tbody>\n    <tr>\n      <th>0</th>\n      <td>752</td>\n      <td>1329.787234</td>\n      <td>0</td>\n      <td>0</td>\n      <td>0.0</td>\n      <td>0</td>\n      <td>0</td>\n      <td>0.0</td>\n      <td>0</td>\n      <td>0</td>\n      <td>...</td>\n      <td>1778</td>\n      <td>1778</td>\n      <td>1778</td>\n      <td>883</td>\n      <td>393.671574</td>\n      <td>197</td>\n      <td>7091</td>\n      <td>629</td>\n      <td>884</td>\n      <td>883</td>\n    </tr>\n    <tr>\n      <th>1</th>\n      <td>931</td>\n      <td>1074.113856</td>\n      <td>0</td>\n      <td>0</td>\n      <td>0.0</td>\n      <td>0</td>\n      <td>0</td>\n      <td>0.0</td>\n      <td>0</td>\n      <td>0</td>\n      <td>...</td>\n      <td>2403</td>\n      <td>2403</td>\n      <td>2403</td>\n      <td>909</td>\n      <td>587.903190</td>\n      <td>288</td>\n      <td>43839</td>\n      <td>955</td>\n      <td>1374</td>\n      <td>909</td>\n    </tr>\n    <tr>\n      <th>2</th>\n      <td>938</td>\n      <td>1066.098081</td>\n      <td>0</td>\n      <td>0</td>\n      <td>0.0</td>\n      <td>0</td>\n      <td>0</td>\n      <td>0.0</td>\n      <td>0</td>\n      <td>0</td>\n      <td>...</td>\n      <td>3699</td>\n      <td>3699</td>\n      <td>3699</td>\n      <td>893</td>\n      <td>588.334826</td>\n      <td>285</td>\n      <td>39583</td>\n      <td>914</td>\n      <td>1352</td>\n      <td>893</td>\n    </tr>\n    <tr>\n      <th>3</th>\n      <td>958</td>\n      <td>1043.841336</td>\n      <td>0</td>\n      <td>0</td>\n      <td>0.0</td>\n      <td>0</td>\n      <td>0</td>\n      <td>0.0</td>\n      <td>0</td>\n      <td>0</td>\n      <td>...</td>\n      <td>1741</td>\n      <td>1741</td>\n      <td>1741</td>\n      <td>904</td>\n      <td>582.148230</td>\n      <td>252</td>\n      <td>39519</td>\n      <td>976</td>\n      <td>2127</td>\n      <td>904</td>\n    </tr>\n    <tr>\n      <th>4</th>\n      <td>976</td>\n      <td>1024.590164</td>\n      <td>0</td>\n      <td>0</td>\n      <td>0.0</td>\n      <td>0</td>\n      <td>0</td>\n      <td>0.0</td>\n      <td>0</td>\n      <td>0</td>\n      <td>...</td>\n      <td>2877</td>\n      <td>2877</td>\n      <td>2877</td>\n      <td>889</td>\n      <td>632.920135</td>\n      <td>278</td>\n      <td>39615</td>\n      <td>1145</td>\n      <td>2397</td>\n      <td>889</td>\n    </tr>\n    <tr>\n      <th>5</th>\n      <td>929</td>\n      <td>1076.426265</td>\n      <td>0</td>\n      <td>0</td>\n      <td>0.0</td>\n      <td>0</td>\n      <td>0</td>\n      <td>0.0</td>\n      <td>0</td>\n      <td>0</td>\n      <td>...</td>\n      <td>2045</td>\n      <td>2045</td>\n      <td>2045</td>\n      <td>911</td>\n      <td>601.160263</td>\n      <td>259</td>\n      <td>39391</td>\n      <td>934</td>\n      <td>2601</td>\n      <td>911</td>\n    </tr>\n    <tr>\n      <th>6</th>\n      <td>985</td>\n      <td>1015.228426</td>\n      <td>0</td>\n      <td>0</td>\n      <td>0.0</td>\n      <td>0</td>\n      <td>0</td>\n      <td>0.0</td>\n      <td>0</td>\n      <td>0</td>\n      <td>...</td>\n      <td>2887</td>\n      <td>2887</td>\n      <td>2887</td>\n      <td>902</td>\n      <td>624.733925</td>\n      <td>272</td>\n      <td>51807</td>\n      <td>1068</td>\n      <td>1880</td>\n      <td>902</td>\n    </tr>\n    <tr>\n      <th>7</th>\n      <td>976</td>\n      <td>1024.590164</td>\n      <td>0</td>\n      <td>0</td>\n      <td>0.0</td>\n      <td>0</td>\n      <td>0</td>\n      <td>0.0</td>\n      <td>0</td>\n      <td>0</td>\n      <td>...</td>\n      <td>2193</td>\n      <td>2193</td>\n      <td>2193</td>\n      <td>881</td>\n      <td>613.426788</td>\n      <td>282</td>\n      <td>42719</td>\n      <td>992</td>\n      <td>2629</td>\n      <td>881</td>\n    </tr>\n    <tr>\n      <th>8</th>\n      <td>1017</td>\n      <td>983.284169</td>\n      <td>0</td>\n      <td>0</td>\n      <td>0.0</td>\n      <td>0</td>\n      <td>0</td>\n      <td>0.0</td>\n      <td>0</td>\n      <td>0</td>\n      <td>...</td>\n      <td>2109</td>\n      <td>2109</td>\n      <td>2109</td>\n      <td>896</td>\n      <td>638.289062</td>\n      <td>287</td>\n      <td>8279</td>\n      <td>1459</td>\n      <td>2829</td>\n      <td>896</td>\n    </tr>\n    <tr>\n      <th>9</th>\n      <td>942</td>\n      <td>1061.571125</td>\n      <td>0</td>\n      <td>0</td>\n      <td>0.0</td>\n      <td>0</td>\n      <td>0</td>\n      <td>0.0</td>\n      <td>0</td>\n      <td>0</td>\n      <td>...</td>\n      <td>2022</td>\n      <td>2022</td>\n      <td>2022</td>\n      <td>899</td>\n      <td>597.103448</td>\n      <td>275</td>\n      <td>41567</td>\n      <td>1001</td>\n      <td>1410</td>\n      <td>899</td>\n    </tr>\n  </tbody>\n</table>\n<p>10 rows × 31 columns</p>\n</div>"
     },
     "execution_count": 8,
     "metadata": {},
     "output_type": "execute_result"
    }
   ],
   "source": [
    "pd.read_csv('../data/clean/mongo/3_10_90_run.csv')\n"
   ],
   "metadata": {
    "collapsed": false,
    "ExecuteTime": {
     "end_time": "2024-04-10T13:06:53.297619Z",
     "start_time": "2024-04-10T13:06:53.280768Z"
    }
   },
   "id": "83fccde1213d6c35"
  },
  {
   "cell_type": "code",
   "execution_count": null,
   "outputs": [],
   "source": [],
   "metadata": {
    "collapsed": false
   },
   "id": "70a7697fdee4eb81"
  }
 ],
 "metadata": {
  "kernelspec": {
   "display_name": "Python 3",
   "language": "python",
   "name": "python3"
  },
  "language_info": {
   "codemirror_mode": {
    "name": "ipython",
    "version": 2
   },
   "file_extension": ".py",
   "mimetype": "text/x-python",
   "name": "python",
   "nbconvert_exporter": "python",
   "pygments_lexer": "ipython2",
   "version": "2.7.6"
  }
 },
 "nbformat": 4,
 "nbformat_minor": 5
}
